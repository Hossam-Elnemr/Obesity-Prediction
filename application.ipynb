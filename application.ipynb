{
 "cells": [
  {
   "cell_type": "code",
   "execution_count": 37,
   "id": "720bd73d",
   "metadata": {},
   "outputs": [],
   "source": [
    "import numpy as np\n",
    "import pandas as pd\n",
    "import matplotlib.pyplot as plt\n",
    "# import streamlit as st\n",
    "import sklearn as sk\n",
    "from Logistic_regression_Model import gradient_descent, predict"
   ]
  },
  {
   "cell_type": "code",
   "execution_count": 38,
   "id": "1a4023d6",
   "metadata": {},
   "outputs": [],
   "source": [
    "df = pd.read_csv(\"train_dataset.csv\")\n",
    "test_data = pd.read_csv(\"test_dataset.csv\")\n",
    "# st.write(train_data)"
   ]
  },
  {
   "cell_type": "code",
   "execution_count": 39,
   "id": "8b0c25a5",
   "metadata": {},
   "outputs": [
    {
     "name": "stdout",
     "output_type": "stream",
     "text": [
      "(1900, 17)\n",
      "               Age       Height       Weight         FCVC          NCP  \\\n",
      "count  1900.000000  1900.000000  1900.000000  1888.000000  1900.000000   \n",
      "mean     24.284211     1.701416    86.515363     2.417272     2.682968   \n",
      "std       6.287165     0.093077    26.157025     0.536367     0.780401   \n",
      "min      14.000000     1.450000    39.000000     1.000000     1.000000   \n",
      "25%      20.000000     1.630000    65.812500     2.000000     2.660000   \n",
      "50%      23.000000     1.700000    83.000000     2.380000     3.000000   \n",
      "75%      26.000000     1.770000   107.050000     3.000000     3.000000   \n",
      "max      61.000000     1.980000   173.000000     3.000000     4.000000   \n",
      "\n",
      "              CH2O          FAF          TUE  \n",
      "count  1900.000000  1900.000000  1900.000000  \n",
      "mean      2.015832     1.004505     0.663579  \n",
      "std       0.611293     0.853269     0.608729  \n",
      "min       1.000000     0.000000     0.000000  \n",
      "25%       1.610000     0.110000     0.000000  \n",
      "50%       2.000000     1.000000     0.631000  \n",
      "75%       2.490000     1.660000     1.000000  \n",
      "max       3.000000     3.000000     2.000000  \n"
     ]
    },
    {
     "data": {
      "text/html": [
       "<div>\n",
       "<style scoped>\n",
       "    .dataframe tbody tr th:only-of-type {\n",
       "        vertical-align: middle;\n",
       "    }\n",
       "\n",
       "    .dataframe tbody tr th {\n",
       "        vertical-align: top;\n",
       "    }\n",
       "\n",
       "    .dataframe thead th {\n",
       "        text-align: right;\n",
       "    }\n",
       "</style>\n",
       "<table border=\"1\" class=\"dataframe\">\n",
       "  <thead>\n",
       "    <tr style=\"text-align: right;\">\n",
       "      <th></th>\n",
       "      <th>Gender</th>\n",
       "      <th>Age</th>\n",
       "      <th>Height</th>\n",
       "      <th>Weight</th>\n",
       "      <th>family_history_with_overweight</th>\n",
       "      <th>FAVC</th>\n",
       "      <th>FCVC</th>\n",
       "      <th>NCP</th>\n",
       "      <th>CAEC</th>\n",
       "      <th>SMOKE</th>\n",
       "      <th>CH2O</th>\n",
       "      <th>SCC</th>\n",
       "      <th>FAF</th>\n",
       "      <th>TUE</th>\n",
       "      <th>CALC</th>\n",
       "      <th>MTRANS</th>\n",
       "      <th>NObeyesdad</th>\n",
       "    </tr>\n",
       "  </thead>\n",
       "  <tbody>\n",
       "    <tr>\n",
       "      <th>0</th>\n",
       "      <td>Female</td>\n",
       "      <td>18</td>\n",
       "      <td>1.82</td>\n",
       "      <td>142.10</td>\n",
       "      <td>yes</td>\n",
       "      <td>yes</td>\n",
       "      <td>3.00</td>\n",
       "      <td>3.00</td>\n",
       "      <td>Sometimes</td>\n",
       "      <td>no</td>\n",
       "      <td>2.71</td>\n",
       "      <td>no</td>\n",
       "      <td>2.00</td>\n",
       "      <td>0.814</td>\n",
       "      <td>Sometimes</td>\n",
       "      <td>Public_Transportation</td>\n",
       "      <td>Obesity_Type_III</td>\n",
       "    </tr>\n",
       "    <tr>\n",
       "      <th>1</th>\n",
       "      <td>Male</td>\n",
       "      <td>32</td>\n",
       "      <td>1.84</td>\n",
       "      <td>98.26</td>\n",
       "      <td>yes</td>\n",
       "      <td>yes</td>\n",
       "      <td>2.33</td>\n",
       "      <td>1.82</td>\n",
       "      <td>Sometimes</td>\n",
       "      <td>no</td>\n",
       "      <td>2.56</td>\n",
       "      <td>no</td>\n",
       "      <td>1.33</td>\n",
       "      <td>0.481</td>\n",
       "      <td>Sometimes</td>\n",
       "      <td>Automobile</td>\n",
       "      <td>Overweight_Level_II</td>\n",
       "    </tr>\n",
       "    <tr>\n",
       "      <th>2</th>\n",
       "      <td>Male</td>\n",
       "      <td>24</td>\n",
       "      <td>1.76</td>\n",
       "      <td>117.33</td>\n",
       "      <td>yes</td>\n",
       "      <td>yes</td>\n",
       "      <td>1.54</td>\n",
       "      <td>3.00</td>\n",
       "      <td>Sometimes</td>\n",
       "      <td>no</td>\n",
       "      <td>2.00</td>\n",
       "      <td>no</td>\n",
       "      <td>1.63</td>\n",
       "      <td>0.631</td>\n",
       "      <td>NaN</td>\n",
       "      <td>Public_Transportation</td>\n",
       "      <td>Obesity_Type_II</td>\n",
       "    </tr>\n",
       "    <tr>\n",
       "      <th>3</th>\n",
       "      <td>Female</td>\n",
       "      <td>26</td>\n",
       "      <td>1.62</td>\n",
       "      <td>110.68</td>\n",
       "      <td>yes</td>\n",
       "      <td>yes</td>\n",
       "      <td>3.00</td>\n",
       "      <td>3.00</td>\n",
       "      <td>Sometimes</td>\n",
       "      <td>no</td>\n",
       "      <td>2.69</td>\n",
       "      <td>no</td>\n",
       "      <td>0.00</td>\n",
       "      <td>0.425</td>\n",
       "      <td>NaN</td>\n",
       "      <td>Public_Transportation</td>\n",
       "      <td>Obesity_Type_III</td>\n",
       "    </tr>\n",
       "    <tr>\n",
       "      <th>4</th>\n",
       "      <td>Male</td>\n",
       "      <td>32</td>\n",
       "      <td>1.78</td>\n",
       "      <td>121.20</td>\n",
       "      <td>yes</td>\n",
       "      <td>yes</td>\n",
       "      <td>2.76</td>\n",
       "      <td>3.00</td>\n",
       "      <td>Sometimes</td>\n",
       "      <td>no</td>\n",
       "      <td>2.16</td>\n",
       "      <td>no</td>\n",
       "      <td>0.43</td>\n",
       "      <td>0.716</td>\n",
       "      <td>NaN</td>\n",
       "      <td>Automobile</td>\n",
       "      <td>Obesity_Type_II</td>\n",
       "    </tr>\n",
       "  </tbody>\n",
       "</table>\n",
       "</div>"
      ],
      "text/plain": [
       "   Gender  Age  Height  Weight family_history_with_overweight FAVC  FCVC  \\\n",
       "0  Female   18    1.82  142.10                            yes  yes  3.00   \n",
       "1    Male   32    1.84   98.26                            yes  yes  2.33   \n",
       "2    Male   24    1.76  117.33                            yes  yes  1.54   \n",
       "3  Female   26    1.62  110.68                            yes  yes  3.00   \n",
       "4    Male   32    1.78  121.20                            yes  yes  2.76   \n",
       "\n",
       "    NCP       CAEC SMOKE  CH2O SCC   FAF    TUE       CALC  \\\n",
       "0  3.00  Sometimes    no  2.71  no  2.00  0.814  Sometimes   \n",
       "1  1.82  Sometimes    no  2.56  no  1.33  0.481  Sometimes   \n",
       "2  3.00  Sometimes    no  2.00  no  1.63  0.631        NaN   \n",
       "3  3.00  Sometimes    no  2.69  no  0.00  0.425        NaN   \n",
       "4  3.00  Sometimes    no  2.16  no  0.43  0.716        NaN   \n",
       "\n",
       "                  MTRANS           NObeyesdad  \n",
       "0  Public_Transportation     Obesity_Type_III  \n",
       "1             Automobile  Overweight_Level_II  \n",
       "2  Public_Transportation      Obesity_Type_II  \n",
       "3  Public_Transportation     Obesity_Type_III  \n",
       "4             Automobile      Obesity_Type_II  "
      ]
     },
     "execution_count": 39,
     "metadata": {},
     "output_type": "execute_result"
    }
   ],
   "source": [
    "print(df.shape)\n",
    "print(df.describe())\n",
    "df.head()"
   ]
  },
  {
   "cell_type": "code",
   "execution_count": 40,
   "id": "ffc5dbe8",
   "metadata": {},
   "outputs": [
    {
     "data": {
      "text/plain": [
       "Gender                             0\n",
       "Age                                0\n",
       "Height                             0\n",
       "Weight                             0\n",
       "family_history_with_overweight     0\n",
       "FAVC                               0\n",
       "NCP                                0\n",
       "CAEC                               0\n",
       "FAF                                0\n",
       "SMOKE                              0\n",
       "CH2O                               0\n",
       "SCC                                0\n",
       "MTRANS                             0\n",
       "TUE                                0\n",
       "NObeyesdad                         0\n",
       "FCVC                              12\n",
       "CALC                              28\n",
       "dtype: int64"
      ]
     },
     "execution_count": 40,
     "metadata": {},
     "output_type": "execute_result"
    }
   ],
   "source": [
    "df.isna().sum().sort_values()"
   ]
  },
  {
   "cell_type": "code",
   "execution_count": 41,
   "id": "ffd96eb0",
   "metadata": {},
   "outputs": [],
   "source": [
    "df = df.drop_duplicates()\n",
    "# mode_value = df['CALC'].mode()[0] \n",
    "df['CALC'] = df['CALC'].fillna(df['CALC'].mode()[0])\n",
    "df['FCVC'] = df['FCVC'].fillna(df['FCVC'].mean())"
   ]
  },
  {
   "cell_type": "code",
   "execution_count": 42,
   "id": "5f0c5b2f",
   "metadata": {},
   "outputs": [
    {
     "name": "stdout",
     "output_type": "stream",
     "text": [
      "(1878, 17)\n"
     ]
    },
    {
     "data": {
      "text/plain": [
       "Gender                            0\n",
       "Age                               0\n",
       "Height                            0\n",
       "Weight                            0\n",
       "family_history_with_overweight    0\n",
       "FAVC                              0\n",
       "FCVC                              0\n",
       "NCP                               0\n",
       "CAEC                              0\n",
       "SMOKE                             0\n",
       "CH2O                              0\n",
       "SCC                               0\n",
       "FAF                               0\n",
       "TUE                               0\n",
       "CALC                              0\n",
       "MTRANS                            0\n",
       "NObeyesdad                        0\n",
       "dtype: int64"
      ]
     },
     "execution_count": 42,
     "metadata": {},
     "output_type": "execute_result"
    }
   ],
   "source": [
    "print(df.shape)\n",
    "df.isna().sum().sort_values()"
   ]
  },
  {
   "cell_type": "code",
   "execution_count": null,
   "id": "789c4cd7",
   "metadata": {},
   "outputs": [],
   "source": []
  }
 ],
 "metadata": {
  "kernelspec": {
   "display_name": "Python 3",
   "language": "python",
   "name": "python3"
  },
  "language_info": {
   "codemirror_mode": {
    "name": "ipython",
    "version": 3
   },
   "file_extension": ".py",
   "mimetype": "text/x-python",
   "name": "python",
   "nbconvert_exporter": "python",
   "pygments_lexer": "ipython3",
   "version": "3.13.2"
  }
 },
 "nbformat": 4,
 "nbformat_minor": 5
}
